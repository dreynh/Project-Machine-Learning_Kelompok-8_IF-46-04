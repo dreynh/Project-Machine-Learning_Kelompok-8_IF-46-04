{
  "cells": [
    {
      "cell_type": "markdown",
      "id": "0998ab93",
      "metadata": {
        "id": "0998ab93"
      },
      "source": [
        "# <center>Assessment CLO-3: Tugas Pemrograman Learning</center>"
      ]
    },
    {
      "cell_type": "markdown",
      "metadata": {
        "id": "b9dd2c3d"
      },
      "source": [
        "<b>Topik</b>\n",
        "[Klasifikasi] pada [Product Classification and Clustering] menggunakan [Naive Bayes]]\n",
        "\n",
        "<b>Kelompok: 8 </b>\n",
        "\n",
        "Anggota:\n",
        "1. Efhram Lazuardi Vidya Agus - 1301220346\n",
        "2. Audrey Nasywaa Harimaydina - 1301220347\n"
      ],
      "id": "b9dd2c3d"
    },
    {
      "cell_type": "markdown",
      "id": "f67c8e8d",
      "metadata": {
        "id": "f67c8e8d"
      },
      "source": [
        "#### Pendahuluan\n",
        "Setiap kelompok harus memilih salah satu dataset. Dataset yang kami pilih berjudul “Product Classification and Clustering”. Terdapat informasi mengenai dataset pada link dibawah ini.\n",
        "\n",
        "https://archive.ics.uci.edu/dataset/837/product+classification+and+clustering\n",
        "\n",
        "Dataset ini berisi informasi tentang produk yang mungkin termasuk atribut seperti ID Produk, Judul Produk, ID Merchant, ID Kluster, Label Kluster, ID Kategori, dan Label Kategori. Dataset ini dapat digunakan untuk tugas klasifikasi produk dan klastering. Tujuan utama dari klasifikasi produk adalah mengkategorikan produk-produk ke dalam kategori atau kelas yang telah ditentukan sebelumnya. Tujuan klastering produk adalah mengelompokkan produk-produk yang memiliki karakteristik serupa ke dalam kelompok atau klaster.\n",
        "Kami, membagi data train dan test dengan cara mengimport test_spilt.\n"
      ]
    },
    {
      "cell_type": "code",
      "source": [
        "#Import Dataset\n",
        "\n",
        "import pandas as pd\n",
        "data=pd.read_csv(\"pricerunner_aggregate.csv\")"
      ],
      "metadata": {
        "id": "gxeMNBs-AO9T"
      },
      "execution_count": 1,
      "outputs": [],
      "id": "gxeMNBs-AO9T"
    },
    {
      "cell_type": "code",
      "execution_count": 2,
      "metadata": {
        "colab": {
          "base_uri": "https://localhost:8080/",
          "height": 206
        },
        "outputId": "85c7cda5-b832-4136-f1c0-de179eec6d5c",
        "id": "aUlSxWX9AO9V"
      },
      "outputs": [
        {
          "output_type": "execute_result",
          "data": {
            "text/plain": [
              "   Product ID                                      Product Title  \\\n",
              "0           1                    apple iphone 8 plus 64gb silver   \n",
              "1           2                apple iphone 8 plus 64 gb spacegrau   \n",
              "2           3  apple mq8n2b/a iphone 8 plus 64gb 5.5 12mp sim...   \n",
              "3           4                apple iphone 8 plus 64gb space grey   \n",
              "4           5  apple iphone 8 plus gold 5.5 64gb 4g unlocked ...   \n",
              "\n",
              "    Merchant ID   Cluster ID             Cluster Label   Category ID  \\\n",
              "0             1            1  Apple iPhone 8 Plus 64GB          2612   \n",
              "1             2            1  Apple iPhone 8 Plus 64GB          2612   \n",
              "2             3            1  Apple iPhone 8 Plus 64GB          2612   \n",
              "3             4            1  Apple iPhone 8 Plus 64GB          2612   \n",
              "4             5            1  Apple iPhone 8 Plus 64GB          2612   \n",
              "\n",
              "   Category Label  \n",
              "0   Mobile Phones  \n",
              "1   Mobile Phones  \n",
              "2   Mobile Phones  \n",
              "3   Mobile Phones  \n",
              "4   Mobile Phones  "
            ],
            "text/html": [
              "\n",
              "  <div id=\"df-eacb9a78-d5d7-42b2-8fa4-aa42ab915f10\" class=\"colab-df-container\">\n",
              "    <div>\n",
              "<style scoped>\n",
              "    .dataframe tbody tr th:only-of-type {\n",
              "        vertical-align: middle;\n",
              "    }\n",
              "\n",
              "    .dataframe tbody tr th {\n",
              "        vertical-align: top;\n",
              "    }\n",
              "\n",
              "    .dataframe thead th {\n",
              "        text-align: right;\n",
              "    }\n",
              "</style>\n",
              "<table border=\"1\" class=\"dataframe\">\n",
              "  <thead>\n",
              "    <tr style=\"text-align: right;\">\n",
              "      <th></th>\n",
              "      <th>Product ID</th>\n",
              "      <th>Product Title</th>\n",
              "      <th>Merchant ID</th>\n",
              "      <th>Cluster ID</th>\n",
              "      <th>Cluster Label</th>\n",
              "      <th>Category ID</th>\n",
              "      <th>Category Label</th>\n",
              "    </tr>\n",
              "  </thead>\n",
              "  <tbody>\n",
              "    <tr>\n",
              "      <th>0</th>\n",
              "      <td>1</td>\n",
              "      <td>apple iphone 8 plus 64gb silver</td>\n",
              "      <td>1</td>\n",
              "      <td>1</td>\n",
              "      <td>Apple iPhone 8 Plus 64GB</td>\n",
              "      <td>2612</td>\n",
              "      <td>Mobile Phones</td>\n",
              "    </tr>\n",
              "    <tr>\n",
              "      <th>1</th>\n",
              "      <td>2</td>\n",
              "      <td>apple iphone 8 plus 64 gb spacegrau</td>\n",
              "      <td>2</td>\n",
              "      <td>1</td>\n",
              "      <td>Apple iPhone 8 Plus 64GB</td>\n",
              "      <td>2612</td>\n",
              "      <td>Mobile Phones</td>\n",
              "    </tr>\n",
              "    <tr>\n",
              "      <th>2</th>\n",
              "      <td>3</td>\n",
              "      <td>apple mq8n2b/a iphone 8 plus 64gb 5.5 12mp sim...</td>\n",
              "      <td>3</td>\n",
              "      <td>1</td>\n",
              "      <td>Apple iPhone 8 Plus 64GB</td>\n",
              "      <td>2612</td>\n",
              "      <td>Mobile Phones</td>\n",
              "    </tr>\n",
              "    <tr>\n",
              "      <th>3</th>\n",
              "      <td>4</td>\n",
              "      <td>apple iphone 8 plus 64gb space grey</td>\n",
              "      <td>4</td>\n",
              "      <td>1</td>\n",
              "      <td>Apple iPhone 8 Plus 64GB</td>\n",
              "      <td>2612</td>\n",
              "      <td>Mobile Phones</td>\n",
              "    </tr>\n",
              "    <tr>\n",
              "      <th>4</th>\n",
              "      <td>5</td>\n",
              "      <td>apple iphone 8 plus gold 5.5 64gb 4g unlocked ...</td>\n",
              "      <td>5</td>\n",
              "      <td>1</td>\n",
              "      <td>Apple iPhone 8 Plus 64GB</td>\n",
              "      <td>2612</td>\n",
              "      <td>Mobile Phones</td>\n",
              "    </tr>\n",
              "  </tbody>\n",
              "</table>\n",
              "</div>\n",
              "    <div class=\"colab-df-buttons\">\n",
              "\n",
              "  <div class=\"colab-df-container\">\n",
              "    <button class=\"colab-df-convert\" onclick=\"convertToInteractive('df-eacb9a78-d5d7-42b2-8fa4-aa42ab915f10')\"\n",
              "            title=\"Convert this dataframe to an interactive table.\"\n",
              "            style=\"display:none;\">\n",
              "\n",
              "  <svg xmlns=\"http://www.w3.org/2000/svg\" height=\"24px\" viewBox=\"0 -960 960 960\">\n",
              "    <path d=\"M120-120v-720h720v720H120Zm60-500h600v-160H180v160Zm220 220h160v-160H400v160Zm0 220h160v-160H400v160ZM180-400h160v-160H180v160Zm440 0h160v-160H620v160ZM180-180h160v-160H180v160Zm440 0h160v-160H620v160Z\"/>\n",
              "  </svg>\n",
              "    </button>\n",
              "\n",
              "  <style>\n",
              "    .colab-df-container {\n",
              "      display:flex;\n",
              "      gap: 12px;\n",
              "    }\n",
              "\n",
              "    .colab-df-convert {\n",
              "      background-color: #E8F0FE;\n",
              "      border: none;\n",
              "      border-radius: 50%;\n",
              "      cursor: pointer;\n",
              "      display: none;\n",
              "      fill: #1967D2;\n",
              "      height: 32px;\n",
              "      padding: 0 0 0 0;\n",
              "      width: 32px;\n",
              "    }\n",
              "\n",
              "    .colab-df-convert:hover {\n",
              "      background-color: #E2EBFA;\n",
              "      box-shadow: 0px 1px 2px rgba(60, 64, 67, 0.3), 0px 1px 3px 1px rgba(60, 64, 67, 0.15);\n",
              "      fill: #174EA6;\n",
              "    }\n",
              "\n",
              "    .colab-df-buttons div {\n",
              "      margin-bottom: 4px;\n",
              "    }\n",
              "\n",
              "    [theme=dark] .colab-df-convert {\n",
              "      background-color: #3B4455;\n",
              "      fill: #D2E3FC;\n",
              "    }\n",
              "\n",
              "    [theme=dark] .colab-df-convert:hover {\n",
              "      background-color: #434B5C;\n",
              "      box-shadow: 0px 1px 3px 1px rgba(0, 0, 0, 0.15);\n",
              "      filter: drop-shadow(0px 1px 2px rgba(0, 0, 0, 0.3));\n",
              "      fill: #FFFFFF;\n",
              "    }\n",
              "  </style>\n",
              "\n",
              "    <script>\n",
              "      const buttonEl =\n",
              "        document.querySelector('#df-eacb9a78-d5d7-42b2-8fa4-aa42ab915f10 button.colab-df-convert');\n",
              "      buttonEl.style.display =\n",
              "        google.colab.kernel.accessAllowed ? 'block' : 'none';\n",
              "\n",
              "      async function convertToInteractive(key) {\n",
              "        const element = document.querySelector('#df-eacb9a78-d5d7-42b2-8fa4-aa42ab915f10');\n",
              "        const dataTable =\n",
              "          await google.colab.kernel.invokeFunction('convertToInteractive',\n",
              "                                                    [key], {});\n",
              "        if (!dataTable) return;\n",
              "\n",
              "        const docLinkHtml = 'Like what you see? Visit the ' +\n",
              "          '<a target=\"_blank\" href=https://colab.research.google.com/notebooks/data_table.ipynb>data table notebook</a>'\n",
              "          + ' to learn more about interactive tables.';\n",
              "        element.innerHTML = '';\n",
              "        dataTable['output_type'] = 'display_data';\n",
              "        await google.colab.output.renderOutput(dataTable, element);\n",
              "        const docLink = document.createElement('div');\n",
              "        docLink.innerHTML = docLinkHtml;\n",
              "        element.appendChild(docLink);\n",
              "      }\n",
              "    </script>\n",
              "  </div>\n",
              "\n",
              "\n",
              "<div id=\"df-3e977962-19f8-4e82-a9b9-5aebedfb5de4\">\n",
              "  <button class=\"colab-df-quickchart\" onclick=\"quickchart('df-3e977962-19f8-4e82-a9b9-5aebedfb5de4')\"\n",
              "            title=\"Suggest charts\"\n",
              "            style=\"display:none;\">\n",
              "\n",
              "<svg xmlns=\"http://www.w3.org/2000/svg\" height=\"24px\"viewBox=\"0 0 24 24\"\n",
              "     width=\"24px\">\n",
              "    <g>\n",
              "        <path d=\"M19 3H5c-1.1 0-2 .9-2 2v14c0 1.1.9 2 2 2h14c1.1 0 2-.9 2-2V5c0-1.1-.9-2-2-2zM9 17H7v-7h2v7zm4 0h-2V7h2v10zm4 0h-2v-4h2v4z\"/>\n",
              "    </g>\n",
              "</svg>\n",
              "  </button>\n",
              "\n",
              "<style>\n",
              "  .colab-df-quickchart {\n",
              "      --bg-color: #E8F0FE;\n",
              "      --fill-color: #1967D2;\n",
              "      --hover-bg-color: #E2EBFA;\n",
              "      --hover-fill-color: #174EA6;\n",
              "      --disabled-fill-color: #AAA;\n",
              "      --disabled-bg-color: #DDD;\n",
              "  }\n",
              "\n",
              "  [theme=dark] .colab-df-quickchart {\n",
              "      --bg-color: #3B4455;\n",
              "      --fill-color: #D2E3FC;\n",
              "      --hover-bg-color: #434B5C;\n",
              "      --hover-fill-color: #FFFFFF;\n",
              "      --disabled-bg-color: #3B4455;\n",
              "      --disabled-fill-color: #666;\n",
              "  }\n",
              "\n",
              "  .colab-df-quickchart {\n",
              "    background-color: var(--bg-color);\n",
              "    border: none;\n",
              "    border-radius: 50%;\n",
              "    cursor: pointer;\n",
              "    display: none;\n",
              "    fill: var(--fill-color);\n",
              "    height: 32px;\n",
              "    padding: 0;\n",
              "    width: 32px;\n",
              "  }\n",
              "\n",
              "  .colab-df-quickchart:hover {\n",
              "    background-color: var(--hover-bg-color);\n",
              "    box-shadow: 0 1px 2px rgba(60, 64, 67, 0.3), 0 1px 3px 1px rgba(60, 64, 67, 0.15);\n",
              "    fill: var(--button-hover-fill-color);\n",
              "  }\n",
              "\n",
              "  .colab-df-quickchart-complete:disabled,\n",
              "  .colab-df-quickchart-complete:disabled:hover {\n",
              "    background-color: var(--disabled-bg-color);\n",
              "    fill: var(--disabled-fill-color);\n",
              "    box-shadow: none;\n",
              "  }\n",
              "\n",
              "  .colab-df-spinner {\n",
              "    border: 2px solid var(--fill-color);\n",
              "    border-color: transparent;\n",
              "    border-bottom-color: var(--fill-color);\n",
              "    animation:\n",
              "      spin 1s steps(1) infinite;\n",
              "  }\n",
              "\n",
              "  @keyframes spin {\n",
              "    0% {\n",
              "      border-color: transparent;\n",
              "      border-bottom-color: var(--fill-color);\n",
              "      border-left-color: var(--fill-color);\n",
              "    }\n",
              "    20% {\n",
              "      border-color: transparent;\n",
              "      border-left-color: var(--fill-color);\n",
              "      border-top-color: var(--fill-color);\n",
              "    }\n",
              "    30% {\n",
              "      border-color: transparent;\n",
              "      border-left-color: var(--fill-color);\n",
              "      border-top-color: var(--fill-color);\n",
              "      border-right-color: var(--fill-color);\n",
              "    }\n",
              "    40% {\n",
              "      border-color: transparent;\n",
              "      border-right-color: var(--fill-color);\n",
              "      border-top-color: var(--fill-color);\n",
              "    }\n",
              "    60% {\n",
              "      border-color: transparent;\n",
              "      border-right-color: var(--fill-color);\n",
              "    }\n",
              "    80% {\n",
              "      border-color: transparent;\n",
              "      border-right-color: var(--fill-color);\n",
              "      border-bottom-color: var(--fill-color);\n",
              "    }\n",
              "    90% {\n",
              "      border-color: transparent;\n",
              "      border-bottom-color: var(--fill-color);\n",
              "    }\n",
              "  }\n",
              "</style>\n",
              "\n",
              "  <script>\n",
              "    async function quickchart(key) {\n",
              "      const quickchartButtonEl =\n",
              "        document.querySelector('#' + key + ' button');\n",
              "      quickchartButtonEl.disabled = true;  // To prevent multiple clicks.\n",
              "      quickchartButtonEl.classList.add('colab-df-spinner');\n",
              "      try {\n",
              "        const charts = await google.colab.kernel.invokeFunction(\n",
              "            'suggestCharts', [key], {});\n",
              "      } catch (error) {\n",
              "        console.error('Error during call to suggestCharts:', error);\n",
              "      }\n",
              "      quickchartButtonEl.classList.remove('colab-df-spinner');\n",
              "      quickchartButtonEl.classList.add('colab-df-quickchart-complete');\n",
              "    }\n",
              "    (() => {\n",
              "      let quickchartButtonEl =\n",
              "        document.querySelector('#df-3e977962-19f8-4e82-a9b9-5aebedfb5de4 button');\n",
              "      quickchartButtonEl.style.display =\n",
              "        google.colab.kernel.accessAllowed ? 'block' : 'none';\n",
              "    })();\n",
              "  </script>\n",
              "</div>\n",
              "    </div>\n",
              "  </div>\n"
            ],
            "application/vnd.google.colaboratory.intrinsic+json": {
              "type": "dataframe",
              "variable_name": "data",
              "summary": "{\n  \"name\": \"data\",\n  \"rows\": 35311,\n  \"fields\": [\n    {\n      \"column\": \"Product ID\",\n      \"properties\": {\n        \"dtype\": \"number\",\n        \"std\": 13498,\n        \"min\": 1,\n        \"max\": 47358,\n        \"num_unique_values\": 35311,\n        \"samples\": [\n          43860,\n          10748,\n          429\n        ],\n        \"semantic_type\": \"\",\n        \"description\": \"\"\n      }\n    },\n    {\n      \"column\": \"Product Title\",\n      \"properties\": {\n        \"dtype\": \"string\",\n        \"num_unique_values\": 30993,\n        \"samples\": [\n          \"beko integrated fridge freezer frost free in white\",\n          \"intel xeon bx80546kg3400fa processor 3.4 ghz 2 mb l2\",\n          \"hotpoint hmcb7030aa integrated fridge freezer white\"\n        ],\n        \"semantic_type\": \"\",\n        \"description\": \"\"\n      }\n    },\n    {\n      \"column\": \" Merchant ID\",\n      \"properties\": {\n        \"dtype\": \"number\",\n        \"std\": 117,\n        \"min\": 1,\n        \"max\": 371,\n        \"num_unique_values\": 306,\n        \"samples\": [\n          96,\n          185,\n          146\n        ],\n        \"semantic_type\": \"\",\n        \"description\": \"\"\n      }\n    },\n    {\n      \"column\": \" Cluster ID\",\n      \"properties\": {\n        \"dtype\": \"number\",\n        \"std\": 18410,\n        \"min\": 1,\n        \"max\": 47525,\n        \"num_unique_values\": 13233,\n        \"samples\": [\n          46402,\n          42394,\n          43184\n        ],\n        \"semantic_type\": \"\",\n        \"description\": \"\"\n      }\n    },\n    {\n      \"column\": \" Cluster Label\",\n      \"properties\": {\n        \"dtype\": \"category\",\n        \"num_unique_values\": 12849,\n        \"samples\": [\n          \"Miele K 12020 S-1 White White\",\n          \"Apple iPhone 8 Plus 256GB\",\n          \"Miele WKF311\"\n        ],\n        \"semantic_type\": \"\",\n        \"description\": \"\"\n      }\n    },\n    {\n      \"column\": \" Category ID\",\n      \"properties\": {\n        \"dtype\": \"number\",\n        \"std\": 3,\n        \"min\": 2612,\n        \"max\": 2623,\n        \"num_unique_values\": 10,\n        \"samples\": [\n          2622,\n          2614,\n          2619\n        ],\n        \"semantic_type\": \"\",\n        \"description\": \"\"\n      }\n    },\n    {\n      \"column\": \" Category Label\",\n      \"properties\": {\n        \"dtype\": \"category\",\n        \"num_unique_values\": 10,\n        \"samples\": [\n          \"Fridge Freezers\",\n          \"TVs\",\n          \"Dishwashers\"\n        ],\n        \"semantic_type\": \"\",\n        \"description\": \"\"\n      }\n    }\n  ]\n}"
            }
          },
          "metadata": {},
          "execution_count": 2
        }
      ],
      "source": [
        "#Menampilkan Data\n",
        "\n",
        "data.head()"
      ],
      "id": "aUlSxWX9AO9V"
    },
    {
      "source": [
        "#Ploting Berdasarkan Category ID\n",
        "\n",
        "from matplotlib import pyplot as plt\n",
        "data[' Category ID'].plot(kind='hist', bins=20, title=' Category ID')\n",
        "plt.gca().spines[['top', 'right',]].set_visible(False)"
      ],
      "cell_type": "code",
      "execution_count": 3,
      "outputs": [
        {
          "output_type": "display_data",
          "data": {
            "text/plain": [
              "<Figure size 640x480 with 1 Axes>"
            ],
            "image/png": "[encoded data removed]"
          },
          "metadata": {}
        }
      ],
      "metadata": {
        "colab": {
          "base_uri": "https://localhost:8080/",
          "height": 452
        },
        "outputId": "c60cb318-2462-486b-aaac-1d2db96db484",
        "id": "AVByK3jhAO9X"
      },
      "id": "AVByK3jhAO9X"
    },
    {
      "cell_type": "markdown",
      "source": [
        "Berdasarkan histogram diatas,\n",
        "sumbu X untuk menunjukkan nilai kategori ID\n",
        "sumbu Y untuk menunjukkan frekuensi kemunculan kategori ID\n",
        "salah satu contohnya, pada kategori ID 2616 paling sedikit produknya."
      ],
      "metadata": {
        "id": "hz6CSbNOAO9X"
      },
      "id": "hz6CSbNOAO9X"
    },
    {
      "cell_type": "code",
      "source": [
        "#Deskripsi Data\n",
        "\n",
        "data.describe()"
      ],
      "metadata": {
        "colab": {
          "base_uri": "https://localhost:8080/",
          "height": 300
        },
        "outputId": "852de4d2-d3eb-495b-87c6-b396fb5531d6",
        "id": "qliOthsjAO9Y"
      },
      "execution_count": 4,
      "outputs": [
        {
          "output_type": "execute_result",
          "data": {
            "text/plain": [
              "         Product ID   Merchant ID    Cluster ID   Category ID\n",
              "count  35311.000000  35311.000000  35311.000000  35311.000000\n",
              "mean   26150.800176    120.501883  30110.687633   2618.142930\n",
              "std    13498.191220    117.045557  18410.265642      3.600708\n",
              "min        1.000000      1.000000      1.000000   2612.000000\n",
              "25%    14958.500000     17.000000   6123.000000   2615.000000\n",
              "50%    27614.000000     75.000000  40630.000000   2619.000000\n",
              "75%    37508.500000    253.000000  44059.000000   2622.000000\n",
              "max    47358.000000    371.000000  47525.000000   2623.000000"
            ],
            "text/html": [
              "\n",
              "  <div id=\"df-e8e74dce-60d1-4511-b439-15b5c23b4430\" class=\"colab-df-container\">\n",
              "    <div>\n",
              "<style scoped>\n",
              "    .dataframe tbody tr th:only-of-type {\n",
              "        vertical-align: middle;\n",
              "    }\n",
              "\n",
              "    .dataframe tbody tr th {\n",
              "        vertical-align: top;\n",
              "    }\n",
              "\n",
              "    .dataframe thead th {\n",
              "        text-align: right;\n",
              "    }\n",
              "</style>\n",
              "<table border=\"1\" class=\"dataframe\">\n",
              "  <thead>\n",
              "    <tr style=\"text-align: right;\">\n",
              "      <th></th>\n",
              "      <th>Product ID</th>\n",
              "      <th>Merchant ID</th>\n",
              "      <th>Cluster ID</th>\n",
              "      <th>Category ID</th>\n",
              "    </tr>\n",
              "  </thead>\n",
              "  <tbody>\n",
              "    <tr>\n",
              "      <th>count</th>\n",
              "      <td>35311.000000</td>\n",
              "      <td>35311.000000</td>\n",
              "      <td>35311.000000</td>\n",
              "      <td>35311.000000</td>\n",
              "    </tr>\n",
              "    <tr>\n",
              "      <th>mean</th>\n",
              "      <td>26150.800176</td>\n",
              "      <td>120.501883</td>\n",
              "      <td>30110.687633</td>\n",
              "      <td>2618.142930</td>\n",
              "    </tr>\n",
              "    <tr>\n",
              "      <th>std</th>\n",
              "      <td>13498.191220</td>\n",
              "      <td>117.045557</td>\n",
              "      <td>18410.265642</td>\n",
              "      <td>3.600708</td>\n",
              "    </tr>\n",
              "    <tr>\n",
              "      <th>min</th>\n",
              "      <td>1.000000</td>\n",
              "      <td>1.000000</td>\n",
              "      <td>1.000000</td>\n",
              "      <td>2612.000000</td>\n",
              "    </tr>\n",
              "    <tr>\n",
              "      <th>25%</th>\n",
              "      <td>14958.500000</td>\n",
              "      <td>17.000000</td>\n",
              "      <td>6123.000000</td>\n",
              "      <td>2615.000000</td>\n",
              "    </tr>\n",
              "    <tr>\n",
              "      <th>50%</th>\n",
              "      <td>27614.000000</td>\n",
              "      <td>75.000000</td>\n",
              "      <td>40630.000000</td>\n",
              "      <td>2619.000000</td>\n",
              "    </tr>\n",
              "    <tr>\n",
              "      <th>75%</th>\n",
              "      <td>37508.500000</td>\n",
              "      <td>253.000000</td>\n",
              "      <td>44059.000000</td>\n",
              "      <td>2622.000000</td>\n",
              "    </tr>\n",
              "    <tr>\n",
              "      <th>max</th>\n",
              "      <td>47358.000000</td>\n",
              "      <td>371.000000</td>\n",
              "      <td>47525.000000</td>\n",
              "      <td>2623.000000</td>\n",
              "    </tr>\n",
              "  </tbody>\n",
              "</table>\n",
              "</div>\n",
              "    <div class=\"colab-df-buttons\">\n",
              "\n",
              "  <div class=\"colab-df-container\">\n",
              "    <button class=\"colab-df-convert\" onclick=\"convertToInteractive('df-e8e74dce-60d1-4511-b439-15b5c23b4430')\"\n",
              "            title=\"Convert this dataframe to an interactive table.\"\n",
              "            style=\"display:none;\">\n",
              "\n",
              "  <svg xmlns=\"http://www.w3.org/2000/svg\" height=\"24px\" viewBox=\"0 -960 960 960\">\n",
              "    <path d=\"M120-120v-720h720v720H120Zm60-500h600v-160H180v160Zm220 220h160v-160H400v160Zm0 220h160v-160H400v160ZM180-400h160v-160H180v160Zm440 0h160v-160H620v160ZM180-180h160v-160H180v160Zm440 0h160v-160H620v160Z\"/>\n",
              "  </svg>\n",
              "    </button>\n",
              "\n",
              "  <style>\n",
              "    .colab-df-container {\n",
              "      display:flex;\n",
              "      gap: 12px;\n",
              "    }\n",
              "\n",
              "    .colab-df-convert {\n",
              "      background-color: #E8F0FE;\n",
              "      border: none;\n",
              "      border-radius: 50%;\n",
              "      cursor: pointer;\n",
              "      display: none;\n",
              "      fill: #1967D2;\n",
              "      height: 32px;\n",
              "      padding: 0 0 0 0;\n",
              "      width: 32px;\n",
              "    }\n",
              "\n",
              "    .colab-df-convert:hover {\n",
              "      background-color: #E2EBFA;\n",
              "      box-shadow: 0px 1px 2px rgba(60, 64, 67, 0.3), 0px 1px 3px 1px rgba(60, 64, 67, 0.15);\n",
              "      fill: #174EA6;\n",
              "    }\n",
              "\n",
              "    .colab-df-buttons div {\n",
              "      margin-bottom: 4px;\n",
              "    }\n",
              "\n",
              "    [theme=dark] .colab-df-convert {\n",
              "      background-color: #3B4455;\n",
              "      fill: #D2E3FC;\n",
              "    }\n",
              "\n",
              "    [theme=dark] .colab-df-convert:hover {\n",
              "      background-color: #434B5C;\n",
              "      box-shadow: 0px 1px 3px 1px rgba(0, 0, 0, 0.15);\n",
              "      filter: drop-shadow(0px 1px 2px rgba(0, 0, 0, 0.3));\n",
              "      fill: #FFFFFF;\n",
              "    }\n",
              "  </style>\n",
              "\n",
              "    <script>\n",
              "      const buttonEl =\n",
              "        document.querySelector('#df-e8e74dce-60d1-4511-b439-15b5c23b4430 button.colab-df-convert');\n",
              "      buttonEl.style.display =\n",
              "        google.colab.kernel.accessAllowed ? 'block' : 'none';\n",
              "\n",
              "      async function convertToInteractive(key) {\n",
              "        const element = document.querySelector('#df-e8e74dce-60d1-4511-b439-15b5c23b4430');\n",
              "        const dataTable =\n",
              "          await google.colab.kernel.invokeFunction('convertToInteractive',\n",
              "                                                    [key], {});\n",
              "        if (!dataTable) return;\n",
              "\n",
              "        const docLinkHtml = 'Like what you see? Visit the ' +\n",
              "          '<a target=\"_blank\" href=https://colab.research.google.com/notebooks/data_table.ipynb>data table notebook</a>'\n",
              "          + ' to learn more about interactive tables.';\n",
              "        element.innerHTML = '';\n",
              "        dataTable['output_type'] = 'display_data';\n",
              "        await google.colab.output.renderOutput(dataTable, element);\n",
              "        const docLink = document.createElement('div');\n",
              "        docLink.innerHTML = docLinkHtml;\n",
              "        element.appendChild(docLink);\n",
              "      }\n",
              "    </script>\n",
              "  </div>\n",
              "\n",
              "\n",
              "<div id=\"df-dbf09f20-1e0d-4b3d-a1f0-7f6c3c0c66c9\">\n",
              "  <button class=\"colab-df-quickchart\" onclick=\"quickchart('df-dbf09f20-1e0d-4b3d-a1f0-7f6c3c0c66c9')\"\n",
              "            title=\"Suggest charts\"\n",
              "            style=\"display:none;\">\n",
              "\n",
              "<svg xmlns=\"http://www.w3.org/2000/svg\" height=\"24px\"viewBox=\"0 0 24 24\"\n",
              "     width=\"24px\">\n",
              "    <g>\n",
              "        <path d=\"M19 3H5c-1.1 0-2 .9-2 2v14c0 1.1.9 2 2 2h14c1.1 0 2-.9 2-2V5c0-1.1-.9-2-2-2zM9 17H7v-7h2v7zm4 0h-2V7h2v10zm4 0h-2v-4h2v4z\"/>\n",
              "    </g>\n",
              "</svg>\n",
              "  </button>\n",
              "\n",
              "<style>\n",
              "  .colab-df-quickchart {\n",
              "      --bg-color: #E8F0FE;\n",
              "      --fill-color: #1967D2;\n",
              "      --hover-bg-color: #E2EBFA;\n",
              "      --hover-fill-color: #174EA6;\n",
              "      --disabled-fill-color: #AAA;\n",
              "      --disabled-bg-color: #DDD;\n",
              "  }\n",
              "\n",
              "  [theme=dark] .colab-df-quickchart {\n",
              "      --bg-color: #3B4455;\n",
              "      --fill-color: #D2E3FC;\n",
              "      --hover-bg-color: #434B5C;\n",
              "      --hover-fill-color: #FFFFFF;\n",
              "      --disabled-bg-color: #3B4455;\n",
              "      --disabled-fill-color: #666;\n",
              "  }\n",
              "\n",
              "  .colab-df-quickchart {\n",
              "    background-color: var(--bg-color);\n",
              "    border: none;\n",
              "    border-radius: 50%;\n",
              "    cursor: pointer;\n",
              "    display: none;\n",
              "    fill: var(--fill-color);\n",
              "    height: 32px;\n",
              "    padding: 0;\n",
              "    width: 32px;\n",
              "  }\n",
              "\n",
              "  .colab-df-quickchart:hover {\n",
              "    background-color: var(--hover-bg-color);\n",
              "    box-shadow: 0 1px 2px rgba(60, 64, 67, 0.3), 0 1px 3px 1px rgba(60, 64, 67, 0.15);\n",
              "    fill: var(--button-hover-fill-color);\n",
              "  }\n",
              "\n",
              "  .colab-df-quickchart-complete:disabled,\n",
              "  .colab-df-quickchart-complete:disabled:hover {\n",
              "    background-color: var(--disabled-bg-color);\n",
              "    fill: var(--disabled-fill-color);\n",
              "    box-shadow: none;\n",
              "  }\n",
              "\n",
              "  .colab-df-spinner {\n",
              "    border: 2px solid var(--fill-color);\n",
              "    border-color: transparent;\n",
              "    border-bottom-color: var(--fill-color);\n",
              "    animation:\n",
              "      spin 1s steps(1) infinite;\n",
              "  }\n",
              "\n",
              "  @keyframes spin {\n",
              "    0% {\n",
              "      border-color: transparent;\n",
              "      border-bottom-color: var(--fill-color);\n",
              "      border-left-color: var(--fill-color);\n",
              "    }\n",
              "    20% {\n",
              "      border-color: transparent;\n",
              "      border-left-color: var(--fill-color);\n",
              "      border-top-color: var(--fill-color);\n",
              "    }\n",
              "    30% {\n",
              "      border-color: transparent;\n",
              "      border-left-color: var(--fill-color);\n",
              "      border-top-color: var(--fill-color);\n",
              "      border-right-color: var(--fill-color);\n",
              "    }\n",
              "    40% {\n",
              "      border-color: transparent;\n",
              "      border-right-color: var(--fill-color);\n",
              "      border-top-color: var(--fill-color);\n",
              "    }\n",
              "    60% {\n",
              "      border-color: transparent;\n",
              "      border-right-color: var(--fill-color);\n",
              "    }\n",
              "    80% {\n",
              "      border-color: transparent;\n",
              "      border-right-color: var(--fill-color);\n",
              "      border-bottom-color: var(--fill-color);\n",
              "    }\n",
              "    90% {\n",
              "      border-color: transparent;\n",
              "      border-bottom-color: var(--fill-color);\n",
              "    }\n",
              "  }\n",
              "</style>\n",
              "\n",
              "  <script>\n",
              "    async function quickchart(key) {\n",
              "      const quickchartButtonEl =\n",
              "        document.querySelector('#' + key + ' button');\n",
              "      quickchartButtonEl.disabled = true;  // To prevent multiple clicks.\n",
              "      quickchartButtonEl.classList.add('colab-df-spinner');\n",
              "      try {\n",
              "        const charts = await google.colab.kernel.invokeFunction(\n",
              "            'suggestCharts', [key], {});\n",
              "      } catch (error) {\n",
              "        console.error('Error during call to suggestCharts:', error);\n",
              "      }\n",
              "      quickchartButtonEl.classList.remove('colab-df-spinner');\n",
              "      quickchartButtonEl.classList.add('colab-df-quickchart-complete');\n",
              "    }\n",
              "    (() => {\n",
              "      let quickchartButtonEl =\n",
              "        document.querySelector('#df-dbf09f20-1e0d-4b3d-a1f0-7f6c3c0c66c9 button');\n",
              "      quickchartButtonEl.style.display =\n",
              "        google.colab.kernel.accessAllowed ? 'block' : 'none';\n",
              "    })();\n",
              "  </script>\n",
              "</div>\n",
              "    </div>\n",
              "  </div>\n"
            ],
            "application/vnd.google.colaboratory.intrinsic+json": {
              "type": "dataframe",
              "summary": "{\n  \"name\": \"data\",\n  \"rows\": 8,\n  \"fields\": [\n    {\n      \"column\": \"Product ID\",\n      \"properties\": {\n        \"dtype\": \"number\",\n        \"std\": 15251.089553181591,\n        \"min\": 1.0,\n        \"max\": 47358.0,\n        \"num_unique_values\": 8,\n        \"samples\": [\n          26150.80017558268,\n          27614.0,\n          35311.0\n        ],\n        \"semantic_type\": \"\",\n        \"description\": \"\"\n      }\n    },\n    {\n      \"column\": \" Merchant ID\",\n      \"properties\": {\n        \"dtype\": \"number\",\n        \"std\": 12436.718474923835,\n        \"min\": 1.0,\n        \"max\": 35311.0,\n        \"num_unique_values\": 8,\n        \"samples\": [\n          120.50188326583785,\n          75.0,\n          35311.0\n        ],\n        \"semantic_type\": \"\",\n        \"description\": \"\"\n      }\n    },\n    {\n      \"column\": \" Cluster ID\",\n      \"properties\": {\n        \"dtype\": \"number\",\n        \"std\": 17770.888033364212,\n        \"min\": 1.0,\n        \"max\": 47525.0,\n        \"num_unique_values\": 8,\n        \"samples\": [\n          30110.687632749003,\n          40630.0,\n          35311.0\n        ],\n        \"semantic_type\": \"\",\n        \"description\": \"\"\n      }\n    },\n    {\n      \"column\": \" Category ID\",\n      \"properties\": {\n        \"dtype\": \"number\",\n        \"std\": 11726.456945799333,\n        \"min\": 3.600708072793874,\n        \"max\": 35311.0,\n        \"num_unique_values\": 8,\n        \"samples\": [\n          2618.142929965167,\n          2619.0,\n          35311.0\n        ],\n        \"semantic_type\": \"\",\n        \"description\": \"\"\n      }\n    }\n  ]\n}"
            }
          },
          "metadata": {},
          "execution_count": 4
        }
      ],
      "id": "qliOthsjAO9Y"
    },
    {
      "cell_type": "markdown",
      "source": [
        "code ini berfungsi untuk mendeskripsikan dataset tersebut, terdapat jumlah data, rata rata, standar deviasa(ukuran penyebaran data), nilai minimum, quartil 1, median, quartil 3 dan nilai maximum."
      ],
      "metadata": {
        "id": "xvys3xbsAO9Z"
      },
      "id": "xvys3xbsAO9Z"
    },
    {
      "cell_type": "code",
      "source": [
        "#Info Data\n",
        "\n",
        "data.info()"
      ],
      "metadata": {
        "colab": {
          "base_uri": "https://localhost:8080/"
        },
        "outputId": "884f91e3-c8c0-4c67-a8a4-50dc0325d996",
        "id": "pXjKkAfvAO9c"
      },
      "execution_count": 5,
      "outputs": [
        {
          "output_type": "stream",
          "name": "stdout",
          "text": [
            "<class 'pandas.core.frame.DataFrame'>\n",
            "RangeIndex: 35311 entries, 0 to 35310\n",
            "Data columns (total 7 columns):\n",
            " #   Column           Non-Null Count  Dtype \n",
            "---  ------           --------------  ----- \n",
            " 0   Product ID       35311 non-null  int64 \n",
            " 1   Product Title    35311 non-null  object\n",
            " 2    Merchant ID     35311 non-null  int64 \n",
            " 3    Cluster ID      35311 non-null  int64 \n",
            " 4    Cluster Label   35311 non-null  object\n",
            " 5    Category ID     35311 non-null  int64 \n",
            " 6    Category Label  35311 non-null  object\n",
            "dtypes: int64(4), object(3)\n",
            "memory usage: 1.9+ MB\n"
          ]
        }
      ],
      "id": "pXjKkAfvAO9c"
    },
    {
      "cell_type": "code",
      "source": [
        "#Boxplot\n",
        "\n",
        "import seaborn as sns\n",
        "plt.figure(figsize=(20, 12))\n",
        "\n",
        "# Membuat boxplot menggunakan seaborn\n",
        "frequency = data[' Category Label'].value_counts().reset_index()\n",
        "frequency.columns = ['Category', 'Frequency']\n",
        "\n",
        "# Membuat figure dan axis\n",
        "plt.figure(figsize=(20, 12))\n",
        "\n",
        "# Membuat boxplot menggunakan seaborn\n",
        "sns.boxplot(x='Category', y='Frequency', data=frequency)\n",
        "\n",
        "# Menambahkan judul dan label\n",
        "plt.title('Boxplot Berdasarkan Frekuensi Kategori')\n",
        "plt.xlabel('Kategori')\n",
        "plt.ylabel('Frekuensi')\n",
        "\n",
        "# Menampilkan plot\n",
        "plt.show()"
      ],
      "metadata": {
        "colab": {
          "base_uri": "https://localhost:8080/",
          "height": 827
        },
        "outputId": "806f1aad-6643-4ab6-dc31-7f1df60459ed",
        "id": "RVtcZVEEAO9c"
      },
      "execution_count": 10,
      "outputs": [
        {
          "output_type": "display_data",
          "data": {
            "text/plain": [
              "<Figure size 2000x1200 with 0 Axes>"
            ]
          },
          "metadata": {}
        },
        {
          "output_type": "display_data",
          "data": {
            "text/plain": [
              "<Figure size 2000x1200 with 1 Axes>"
            ],
            "image/png": "[encoded data removed]"
          },
          "metadata": {}
        }
      ],
      "id": "RVtcZVEEAO9c"
    },
    {
      "cell_type": "markdown",
      "source": [
        "Boxplot diatas berdasarkan kategori dan frekuensi\n",
        "Boxplot diatas menunjukkan banyak sebaran datanya."
      ],
      "metadata": {
        "id": "Y10Gr9xBAO9d"
      },
      "id": "Y10Gr9xBAO9d"
    },
    {
      "cell_type": "markdown",
      "id": "691b437e",
      "metadata": {
        "id": "691b437e"
      },
      "source": [
        "#### Metode Naive Bayes\n",
        "Kami menggunakan metode Naive Bayes, yaitu salah satu algoritma pembelajaran induktif yang paling efektif dan efesien untuk machine learning. Metode pengklasifikasiannya berdasarkan probabilitas sederhana dan dirancang agar dapat dipergunakan dengan variable penjelas saling bebas(independen).\n",
        "Tipe Algoritma yang kami gunakan yaitu Gaussian Naive Bayes. Asumsi pendistribusian nilai kontinu yang terkait dengan setiap fitur berisi nilai numerik."
      ]
    },
    {
      "cell_type": "code",
      "source": [
        "df=data\n",
        "X=df[['Product ID',' Merchant ID', ' Cluster ID']]\n",
        "y=df[' Category ID']"
      ],
      "metadata": {
        "id": "5s7Q3HrI_XuM"
      },
      "execution_count": 11,
      "outputs": [],
      "id": "5s7Q3HrI_XuM"
    },
    {
      "cell_type": "markdown",
      "source": [
        "datanya berdasarkan X yaitu product ID, Merchant ID dan Cluster ID yang akan dicari (tujuan) yaitu Y = kategori ID"
      ],
      "metadata": {
        "id": "uv6bGR9lohsq"
      },
      "id": "uv6bGR9lohsq"
    },
    {
      "cell_type": "code",
      "source": [
        "from sklearn.model_selection import train_test_split\n",
        "X_train, X_test, y_train, y_test = train_test_split(X, y, test_size = 0.2,random_state=109)\n",
        "print(\"Train: \",X_train.shape,y_train.shape,\"Test: \",(X_test.shape,y_test.shape))"
      ],
      "metadata": {
        "colab": {
          "base_uri": "https://localhost:8080/"
        },
        "id": "Hg9pZjwgAHGZ",
        "outputId": "751ac9b7-229d-4785-ffb0-9cf07677fb0b"
      },
      "execution_count": 12,
      "outputs": [
        {
          "output_type": "stream",
          "name": "stdout",
          "text": [
            "Train:  (28248, 3) (28248,) Test:  ((7063, 3), (7063,))\n"
          ]
        }
      ],
      "id": "Hg9pZjwgAHGZ"
    },
    {
      "cell_type": "markdown",
      "source": [
        "code tersebut fungsinya untuk membagi data train dan data testing\n",
        "Dari percobaan ini, kita mendapatkan 80% sebagai data traing dan 20% sebagai data testing\n",
        "\n",
        "data train yang didapatkan adalah 28248 dan data testing yang didapatkan adalah 7063"
      ],
      "metadata": {
        "id": "rc4UJwtysLqY"
      },
      "id": "rc4UJwtysLqY"
    },
    {
      "cell_type": "code",
      "source": [
        "from sklearn.naive_bayes import GaussianNB\n",
        "gnb = GaussianNB()\n",
        "y_pred = gnb.fit(X_train, y_train).predict(X_test)"
      ],
      "metadata": {
        "id": "Z1vF5v1nAVVc"
      },
      "execution_count": 13,
      "outputs": [],
      "id": "Z1vF5v1nAVVc"
    },
    {
      "cell_type": "markdown",
      "source": [
        "Code tersebut untuk mengimport model Gaussian Naive\n",
        "setelah di inisialisasikan (gnb), lalu akan diimplementasikan.\n",
        "gnb.fit(X_train, y_Train) sebagai pembelajarannya(learning) dan ketika sudah didapatkan, akan menejalakan predict(X_test) yaitu testing."
      ],
      "metadata": {
        "id": "p-GZ-68Zu5Vx"
      },
      "id": "p-GZ-68Zu5Vx"
    },
    {
      "cell_type": "code",
      "source": [
        "from sklearn.metrics import classification_report, confusion_matrix\n",
        "print(\"Confusion Matrix Naive Bayes\")\n",
        "print(confusion_matrix(y_test,y_pred))\n",
        "print(classification_report(y_test,y_pred))\n",
        "from sklearn.metrics import accuracy_score\n",
        "acu_nb=accuracy_score(y_test,y_pred)\n",
        "print('AKURASI NB: %.3f' % acu_nb)"
      ],
      "metadata": {
        "colab": {
          "base_uri": "https://localhost:8080/"
        },
        "id": "Vo7q2HG8Ai2B",
        "outputId": "1954a907-bb62-4c4a-c635-cb9c4e990fd1"
      },
      "execution_count": 14,
      "outputs": [
        {
          "output_type": "stream",
          "name": "stdout",
          "text": [
            "Confusion Matrix Naive Bayes\n",
            "[[ 829    0    0    0    0    0    0    0    0    0]\n",
            " [   0  680   31    0    0    0    0    0    0    0]\n",
            " [   0    6  767    0    0    0    0    0    0    0]\n",
            " [   0    0    0  529   29    0    0    0    0    0]\n",
            " [   0    0    0    0  439   21    0    0    0    0]\n",
            " [   0    0    0    0    0  666   34    0    0    0]\n",
            " [   0    0    0    0    0    0  738   36    0    0]\n",
            " [   0    0    0    0    0    0    0  389   17    0]\n",
            " [   0    0    0    0    0    0    0    0 1081   38]\n",
            " [   0    0    0    0    0    0    0    0    0  733]]\n",
            "              precision    recall  f1-score   support\n",
            "\n",
            "        2612       1.00      1.00      1.00       829\n",
            "        2614       0.99      0.96      0.97       711\n",
            "        2615       0.96      0.99      0.98       773\n",
            "        2617       1.00      0.95      0.97       558\n",
            "        2618       0.94      0.95      0.95       460\n",
            "        2619       0.97      0.95      0.96       700\n",
            "        2620       0.96      0.95      0.95       774\n",
            "        2621       0.92      0.96      0.94       406\n",
            "        2622       0.98      0.97      0.98      1119\n",
            "        2623       0.95      1.00      0.97       733\n",
            "\n",
            "    accuracy                           0.97      7063\n",
            "   macro avg       0.97      0.97      0.97      7063\n",
            "weighted avg       0.97      0.97      0.97      7063\n",
            "\n",
            "AKURASI NB: 0.970\n"
          ]
        }
      ],
      "id": "Vo7q2HG8Ai2B"
    },
    {
      "cell_type": "markdown",
      "id": "c5526cf7",
      "metadata": {
        "id": "c5526cf7"
      },
      "source": [
        "#### Hasil dan Analisis\n",
        "\n",
        "Dari analisis yang telah dilakukan, didapatkan hasil bahwa akurasi dengan metode Naive Bayes ini 97% mampu memprediksi dengan benar.\n",
        "\n",
        "![Screenshot 2024-06-01 160833.png](data:image/png;base64,iVBORw0KGgoAAAANSUhEUgAAAKUAAAAiCAYAAAA+nhm6AAAAAXNSR0IArs4c6QAAAARnQU1BAACxjwv8YQUAAAAJcEhZcwAAFiUAABYlAUlSJPAAAATQSURBVHhe7Zu7ahtNFMf/X95B4MKGSAg/gBAYTIo1uBCuhepIyCqMa0eot6O4NilsEdJaUR22CGiLEDC+PIBZRCCBGOsh9J257Gp2VoolrQJTnJ8ZvHPZOXM5c87swf5vQoBhHOKV/s0wzsBKyTgHKyXjHKyUjHOwUjLOwUrJOAcrJeMcrJSMc7BSMs7BSsk4Bysl4xzrUcqnPhqFAgqNPsa6SCLLG+g/6TwecCbadR/oeYx+o4DGwHzDLFPPBdE+SvI9i7uzuXXjQSP5vjG+VJ1V/zceuqK9OS811rM7lVP1Zjqjma+P5NiX7DvaK52iMQvS4063ySR7UcQfZGTl+Ut9Uv9yP7mu1yfXf3Sh4M/1pJ6flt2/z0/y7+9VZvJM7fP03rPOC8wy9Xx6q2ro7clp3m6v+jy9FXWn1MLg9nSSt8tmIMaer1+TtMURMus01+lYkmNNzjOdz4Q1L9n3wuNXaxivqbU/Kez6TLIXZw2Wcozh1wDF1yXsHQD+9zm2hixa9bGLm3ZJFyzLFoqefox5gH/pobhZQqXVg2+e+m89oFXBqtJe5KCC4snVQpaitN8EHkPLCpteY1HIIn/swTs/jOdVetuFF/gYxlZ7PuPBBXpeF4dlXbBRw3ErmLtn4+8+gtYxahsyl0n2MmRXyqch/KCJCk0097qI4OvQWnwBbUANGHyqIadLlkbKASm/0cOdT4tcwR4t2hZpbO/bdIOlIlxWl9z0ZdjD4XmYOAjzEAfEO9hbfe4xvxAGHipvop5oXXfbCOgn/K2LXmK7mBiHWLcg/KVzJg+4OgG6byMVXIPsBcmslOo0aYtUrqCZOjkB2rtVoN9ZyWr1avr+suuj8mOETnTKCXOzc28q8C59WipNuYPRaICmUMx/dP8RMsOPc+6hsdyC9BAfqrZKltAZjTBayXNE922xriMMWkD4c46HMlBrdDG9C9P98t0JnfQZSKsaW0mT1WQvQ0alVK67uR8bdHKjtjvw0O13EdZWU4omTXw0ukHXs/tVrjs+uRt7qHhJFx5vPKUBufdq4uNkDQj3tz3HfbUGUq5INwc+dtZ2KMQh30F4pPrulMcIHy0PMg8a74dz0PvqsBQ6wPG5B6+4pRtECCtp7mtEBtlLkE0ptUuNrZmwCpc0dNuFb4rFCFFNfN3mUNzWjxbpSeZQO2oiMO9wwnXLRYpk76AtxmK4cJNSm6zmP3A1pf0i2p+HOjebXPWYZIcIMx8Ida/2zm8Mj6HcanFTZ18gV/0UH5YRXafo5dR6p+6ekuyyFyWbUv4OEdDgb6JJivRj9uVXLMZgu40d444n7zOmAt9dkWKp+2mK8iFZyx4udAhp/DNMWCOZ+uIeabhwE6nE619AOa5HH77OzkJtsrr7TlnlQydHH5O0ZifvYos/s+95IToLEQKqYpC4EsVW8si+/y8oex3or/CVkKERK0STCOukQg4qJGGGEWRYQZTJZLa1Q0KEDEmINjPqJFHIQ9VP+7X71qGgRD2lBcMb9ryjvhIhoUTfs0JTei1WCBUlxj5rzHLdZ9VpmTql906P/S/r8KLsNcD/OMY4R/aQEMOsGVZKxjlYKRnnYKVknIOVknEOVkrGOVgpGedgpWScg5WScQ5WSsY5WCkZ52ClZBwD+B/NHE9SPZPo7AAAAABJRU5ErkJggg==)"
      ]
    },
    {
      "cell_type": "markdown",
      "id": "8a255fe5",
      "metadata": {
        "id": "8a255fe5"
      },
      "source": [
        "#### Kesimpulan\n"
      ]
    },
    {
      "cell_type": "markdown",
      "id": "5241e91d",
      "metadata": {
        "id": "5241e91d"
      },
      "source": [
        "Kesimpulan dari analisis ini, dengan menggunakan metode Naive Bayes pada machine learning menggunakan dataset product clustering and classification dapat memprediksi dengan benar sebanyak 97% tingkat akurasinya."
      ]
    }
  ],
  "metadata": {
    "kernelspec": {
      "display_name": "Python 3 (ipykernel)",
      "language": "python",
      "name": "python3"
    },
    "language_info": {
      "codemirror_mode": {
        "name": "ipython",
        "version": 3
      },
      "file_extension": ".py",
      "mimetype": "text/x-python",
      "name": "python",
      "nbconvert_exporter": "python",
      "pygments_lexer": "ipython3",
      "version": "3.10.9"
    },
    "colab": {
      "provenance": []
    }
  },
  "nbformat": 4,
  "nbformat_minor": 5
}